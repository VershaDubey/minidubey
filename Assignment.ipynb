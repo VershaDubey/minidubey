{
  "nbformat": 4,
  "nbformat_minor": 0,
  "metadata": {
    "colab": {
      "provenance": [],
      "authorship_tag": "ABX9TyNNMTjwUbabSq47pnF1bZeY",
      "include_colab_link": true
    },
    "kernelspec": {
      "name": "python3",
      "display_name": "Python 3"
    },
    "language_info": {
      "name": "python"
    }
  },
  "cells": [
    {
      "cell_type": "markdown",
      "metadata": {
        "id": "view-in-github",
        "colab_type": "text"
      },
      "source": [
        "<a href=\"https://colab.research.google.com/github/VershaDubey/minidubey/blob/master/Assignment.ipynb\" target=\"_parent\"><img src=\"https://colab.research.google.com/assets/colab-badge.svg\" alt=\"Open In Colab\"/></a>"
      ]
    },
    {
      "cell_type": "code",
      "source": [
        "!pip install mne\n",
        "# importing the libraries\n",
        "import numpy as np\n",
        "import mne  # to handle and process EEG data\n",
        "import matplotlib.pyplot as plt\n",
        "import scipy.signal as signal  # to compute the Power Spectral Density for analyzing the freq components of the EEG signals\n",
        "import pandas as pd"
      ],
      "metadata": {
        "colab": {
          "base_uri": "https://localhost:8080/"
        },
        "id": "IP25M4AzivAY",
        "outputId": "77989ccb-cc99-43ad-e65a-e4a73d87603e"
      },
      "execution_count": 10,
      "outputs": [
        {
          "output_type": "stream",
          "name": "stdout",
          "text": [
            "Requirement already satisfied: mne in /usr/local/lib/python3.10/dist-packages (1.7.1)\n",
            "Requirement already satisfied: decorator in /usr/local/lib/python3.10/dist-packages (from mne) (4.4.2)\n",
            "Requirement already satisfied: jinja2 in /usr/local/lib/python3.10/dist-packages (from mne) (3.1.4)\n",
            "Requirement already satisfied: lazy-loader>=0.3 in /usr/local/lib/python3.10/dist-packages (from mne) (0.4)\n",
            "Requirement already satisfied: matplotlib>=3.5.0 in /usr/local/lib/python3.10/dist-packages (from mne) (3.7.1)\n",
            "Requirement already satisfied: numpy>=1.21.2 in /usr/local/lib/python3.10/dist-packages (from mne) (1.25.2)\n",
            "Requirement already satisfied: packaging in /usr/local/lib/python3.10/dist-packages (from mne) (24.1)\n",
            "Requirement already satisfied: pooch>=1.5 in /usr/local/lib/python3.10/dist-packages (from mne) (1.8.2)\n",
            "Requirement already satisfied: scipy>=1.7.1 in /usr/local/lib/python3.10/dist-packages (from mne) (1.11.4)\n",
            "Requirement already satisfied: tqdm in /usr/local/lib/python3.10/dist-packages (from mne) (4.66.4)\n",
            "Requirement already satisfied: contourpy>=1.0.1 in /usr/local/lib/python3.10/dist-packages (from matplotlib>=3.5.0->mne) (1.2.1)\n",
            "Requirement already satisfied: cycler>=0.10 in /usr/local/lib/python3.10/dist-packages (from matplotlib>=3.5.0->mne) (0.12.1)\n",
            "Requirement already satisfied: fonttools>=4.22.0 in /usr/local/lib/python3.10/dist-packages (from matplotlib>=3.5.0->mne) (4.53.0)\n",
            "Requirement already satisfied: kiwisolver>=1.0.1 in /usr/local/lib/python3.10/dist-packages (from matplotlib>=3.5.0->mne) (1.4.5)\n",
            "Requirement already satisfied: pillow>=6.2.0 in /usr/local/lib/python3.10/dist-packages (from matplotlib>=3.5.0->mne) (9.4.0)\n",
            "Requirement already satisfied: pyparsing>=2.3.1 in /usr/local/lib/python3.10/dist-packages (from matplotlib>=3.5.0->mne) (3.1.2)\n",
            "Requirement already satisfied: python-dateutil>=2.7 in /usr/local/lib/python3.10/dist-packages (from matplotlib>=3.5.0->mne) (2.8.2)\n",
            "Requirement already satisfied: platformdirs>=2.5.0 in /usr/local/lib/python3.10/dist-packages (from pooch>=1.5->mne) (4.2.2)\n",
            "Requirement already satisfied: requests>=2.19.0 in /usr/local/lib/python3.10/dist-packages (from pooch>=1.5->mne) (2.31.0)\n",
            "Requirement already satisfied: MarkupSafe>=2.0 in /usr/local/lib/python3.10/dist-packages (from jinja2->mne) (2.1.5)\n",
            "Requirement already satisfied: six>=1.5 in /usr/local/lib/python3.10/dist-packages (from python-dateutil>=2.7->matplotlib>=3.5.0->mne) (1.16.0)\n",
            "Requirement already satisfied: charset-normalizer<4,>=2 in /usr/local/lib/python3.10/dist-packages (from requests>=2.19.0->pooch>=1.5->mne) (3.3.2)\n",
            "Requirement already satisfied: idna<4,>=2.5 in /usr/local/lib/python3.10/dist-packages (from requests>=2.19.0->pooch>=1.5->mne) (3.7)\n",
            "Requirement already satisfied: urllib3<3,>=1.21.1 in /usr/local/lib/python3.10/dist-packages (from requests>=2.19.0->pooch>=1.5->mne) (2.0.7)\n",
            "Requirement already satisfied: certifi>=2017.4.17 in /usr/local/lib/python3.10/dist-packages (from requests>=2.19.0->pooch>=1.5->mne) (2024.6.2)\n"
          ]
        }
      ]
    },
    {
      "cell_type": "code",
      "source": [
        "raw = mne.io.read_raw_edf('/content/source.edf', preload=True)"
      ],
      "metadata": {
        "colab": {
          "base_uri": "https://localhost:8080/"
        },
        "id": "7-zYlRbyjFMj",
        "outputId": "a81f7cef-3658-4c04-8859-165573d3d8ec"
      },
      "execution_count": 17,
      "outputs": [
        {
          "output_type": "stream",
          "name": "stdout",
          "text": [
            "Extracting EDF parameters from /content/source.edf...\n",
            "EDF file detected\n",
            "Setting channel info structure...\n",
            "Creating raw.info structure...\n",
            "Reading 0 ... 90999  =      0.000 ...   181.998 secs...\n"
          ]
        }
      ]
    },
    {
      "cell_type": "code",
      "source": [
        "\n",
        "print(raw)"
      ],
      "metadata": {
        "colab": {
          "base_uri": "https://localhost:8080/"
        },
        "id": "TbK1oz6wjxWD",
        "outputId": "342651c6-1412-4188-f099-5b1750045e3c"
      },
      "execution_count": 18,
      "outputs": [
        {
          "output_type": "stream",
          "name": "stdout",
          "text": [
            "<RawEDF | source.edf, 21 x 91000 (182.0 s), ~14.6 MB, data loaded>\n"
          ]
        }
      ]
    },
    {
      "cell_type": "code",
      "source": [
        "import tensorflow as tf\n",
        "from tensorflow.keras.models import Sequential\n",
        "from tensorflow.keras.layers import Dense, Flatten, Conv2D, MaxPooling2D\n"
      ],
      "metadata": {
        "id": "Wp2AVNfln7v7"
      },
      "execution_count": 20,
      "outputs": []
    },
    {
      "cell_type": "code",
      "source": [
        "# Define the frequency bands of interest\n",
        "freq_bands = [(1, 4), (4, 8), (8, 13), (13, 30), (30, 50)]  # Example bands: Delta, Theta, Alpha, Beta, Gamma\n",
        "\n",
        "# Placeholder - Calculate or load band powers for rest and task conditions\n",
        "# Replace this with your actual band power calculation or loading logic\n",
        "X_rest = {band: np.random.rand(10, 5) for band in freq_bands}  # Example placeholder\n",
        "X_task = {band: np.random.rand(10, 5) for band in freq_bands}  # Example placeholder\n",
        "\n",
        "# Feature extraction (example using band powers)\n",
        "y_rest = np.concatenate([X_rest[band] for band in freq_bands], axis=1)\n",
        "y_task = np.concatenate([X_task[band] for band in freq_bands], axis=1)\n",
        "\n",
        "# Print the shape of one of the arrays within the dictionary, for example:\n",
        "print(X_rest[(1, 4)].shape)  # Print the shape of the array associated with the (1, 4) Hz band in X_rest\n",
        "print(y_task.shape)"
      ],
      "metadata": {
        "id": "U6qLyidAp1y6",
        "outputId": "28f4f681-9356-483d-e541-7ab255b28e4b",
        "colab": {
          "base_uri": "https://localhost:8080/"
        }
      },
      "execution_count": 29,
      "outputs": [
        {
          "output_type": "stream",
          "name": "stdout",
          "text": [
            "(10, 5)\n",
            "(10, 25)\n"
          ]
        }
      ]
    },
    {
      "cell_type": "code",
      "source": [
        "\n",
        "y = np.concatenate([y_rest, y_task])"
      ],
      "metadata": {
        "id": "qZ6PFsbVoyoV"
      },
      "execution_count": 31,
      "outputs": []
    },
    {
      "cell_type": "code",
      "source": [
        "from sklearn.model_selection import train_test_split\n",
        "X_train, X_test, y_train, y_test = train_test_split(X, y, test_size=0.2, random_state=42)\n"
      ],
      "metadata": {
        "id": "qBH0147eqHn2"
      },
      "execution_count": 32,
      "outputs": []
    },
    {
      "cell_type": "code",
      "source": [
        "import numpy as np\n",
        "import tensorflow as tf\n",
        "from tensorflow.keras.models import Sequential\n",
        "from tensorflow.keras.layers import Dense, Flatten, Conv2D, GlobalMaxPooling2D\n",
        "\n",
        "# Example data dimensions (replace with your actual data)\n",
        "# Assuming X_train has shape (samples, time_steps, features)\n",
        "# For example: (1000, 25, 10) -> 1000 samples, 25 time steps, 10 features\n",
        "# Generate random data for demonstration\n",
        "X_train = np.random.randn(1000, 25, 10)\n",
        "y_train = np.random.randint(2, size=1000)\n",
        "\n",
        "# Reshape X_train for Conv2D (assuming channels last)\n",
        "X_train = X_train.reshape(X_train.shape[0], X_train.shape[1], X_train.shape[2], 1)\n",
        "\n",
        "# Model 1: EEGNet\n",
        "model1 = Sequential([\n",
        "    Conv2D(16, (3, 3), activation='relu', padding='same',\n",
        "           input_shape=(X_train.shape[1], X_train.shape[2], 1)),\n",
        "    GlobalMaxPooling2D(),  # Use Global Max Pooling instead of MaxPooling2D\n",
        "    Dense(64, activation='relu'),\n",
        "    Dense(1, activation='sigmoid')\n",
        "])\n",
        "\n",
        "model1.compile(optimizer='adam', loss='binary_crossentropy', metrics=['accuracy'])\n",
        "model1.fit(X_train, y_train, epochs=10, validation_split=0.2)\n",
        "\n",
        "# Model summary to verify layer outputs\n",
        "model1.summary()\n"
      ],
      "metadata": {
        "id": "7DtveR9nrEB6",
        "outputId": "dc1fce86-e61b-4d43-b6ba-40a1bc043604",
        "colab": {
          "base_uri": "https://localhost:8080/"
        }
      },
      "execution_count": 41,
      "outputs": [
        {
          "output_type": "stream",
          "name": "stdout",
          "text": [
            "Epoch 1/10\n",
            "25/25 [==============================] - 2s 18ms/step - loss: 0.7003 - accuracy: 0.5150 - val_loss: 0.6884 - val_accuracy: 0.5600\n",
            "Epoch 2/10\n",
            "25/25 [==============================] - 0s 8ms/step - loss: 0.6919 - accuracy: 0.5225 - val_loss: 0.6913 - val_accuracy: 0.5350\n",
            "Epoch 3/10\n",
            "25/25 [==============================] - 0s 7ms/step - loss: 0.6944 - accuracy: 0.5238 - val_loss: 0.6942 - val_accuracy: 0.5150\n",
            "Epoch 4/10\n",
            "25/25 [==============================] - 0s 8ms/step - loss: 0.6934 - accuracy: 0.5263 - val_loss: 0.6864 - val_accuracy: 0.5600\n",
            "Epoch 5/10\n",
            "25/25 [==============================] - 0s 7ms/step - loss: 0.6953 - accuracy: 0.4750 - val_loss: 0.6866 - val_accuracy: 0.5550\n",
            "Epoch 6/10\n",
            "25/25 [==============================] - 0s 7ms/step - loss: 0.6900 - accuracy: 0.5275 - val_loss: 0.6905 - val_accuracy: 0.5550\n",
            "Epoch 7/10\n",
            "25/25 [==============================] - 0s 7ms/step - loss: 0.6882 - accuracy: 0.5312 - val_loss: 0.6863 - val_accuracy: 0.5550\n",
            "Epoch 8/10\n",
            "25/25 [==============================] - 0s 8ms/step - loss: 0.6902 - accuracy: 0.5225 - val_loss: 0.6869 - val_accuracy: 0.5400\n",
            "Epoch 9/10\n",
            "25/25 [==============================] - 0s 7ms/step - loss: 0.6891 - accuracy: 0.5337 - val_loss: 0.6913 - val_accuracy: 0.5600\n",
            "Epoch 10/10\n",
            "25/25 [==============================] - 0s 8ms/step - loss: 0.6897 - accuracy: 0.5400 - val_loss: 0.6860 - val_accuracy: 0.5550\n",
            "Model: \"sequential_6\"\n",
            "_________________________________________________________________\n",
            " Layer (type)                Output Shape              Param #   \n",
            "=================================================================\n",
            " conv2d_6 (Conv2D)           (None, 25, 10, 16)        160       \n",
            "                                                                 \n",
            " global_max_pooling2d (Glob  (None, 16)                0         \n",
            " alMaxPooling2D)                                                 \n",
            "                                                                 \n",
            " dense_12 (Dense)            (None, 64)                1088      \n",
            "                                                                 \n",
            " dense_13 (Dense)            (None, 1)                 65        \n",
            "                                                                 \n",
            "=================================================================\n",
            "Total params: 1313 (5.13 KB)\n",
            "Trainable params: 1313 (5.13 KB)\n",
            "Non-trainable params: 0 (0.00 Byte)\n",
            "_________________________________________________________________\n"
          ]
        }
      ]
    },
    {
      "cell_type": "code",
      "source": [
        "model2 = Sequential([\n",
        "    Conv2D(32, (3, 3), activation='relu', input_shape=(X_train.shape[1], X_train.shape[2], 1)),\n",
        "    MaxPooling2D((2, 2)),\n",
        "    Flatten(),\n",
        "    Dense(128, activation='relu'),\n",
        "    Dense(1, activation='sigmoid')\n",
        "])\n",
        "\n",
        "model2.compile(optimizer='adam', loss='binary_crossentropy', metrics=['accuracy'])\n",
        "model2.fit(X_train, y_train, epochs=10, validation_split=0.2)\n"
      ],
      "metadata": {
        "id": "J2lL-W_xrqBO",
        "outputId": "6fa14052-53e1-46df-a549-0a060898597d",
        "colab": {
          "base_uri": "https://localhost:8080/"
        }
      },
      "execution_count": 42,
      "outputs": [
        {
          "output_type": "stream",
          "name": "stdout",
          "text": [
            "Epoch 1/10\n",
            "25/25 [==============================] - 2s 17ms/step - loss: 0.7694 - accuracy: 0.5088 - val_loss: 0.6999 - val_accuracy: 0.4900\n",
            "Epoch 2/10\n",
            "25/25 [==============================] - 0s 10ms/step - loss: 0.6909 - accuracy: 0.5175 - val_loss: 0.6857 - val_accuracy: 0.5550\n",
            "Epoch 3/10\n",
            "25/25 [==============================] - 0s 10ms/step - loss: 0.6809 - accuracy: 0.5850 - val_loss: 0.6958 - val_accuracy: 0.4900\n",
            "Epoch 4/10\n",
            "25/25 [==============================] - 0s 10ms/step - loss: 0.6740 - accuracy: 0.5850 - val_loss: 0.6893 - val_accuracy: 0.5650\n",
            "Epoch 5/10\n",
            "25/25 [==============================] - 0s 10ms/step - loss: 0.6636 - accuracy: 0.6225 - val_loss: 0.6920 - val_accuracy: 0.5500\n",
            "Epoch 6/10\n",
            "25/25 [==============================] - 0s 11ms/step - loss: 0.6534 - accuracy: 0.6050 - val_loss: 0.6929 - val_accuracy: 0.5350\n",
            "Epoch 7/10\n",
            "25/25 [==============================] - 0s 9ms/step - loss: 0.6341 - accuracy: 0.6650 - val_loss: 0.7003 - val_accuracy: 0.4950\n",
            "Epoch 8/10\n",
            "25/25 [==============================] - 0s 10ms/step - loss: 0.6086 - accuracy: 0.6975 - val_loss: 0.7049 - val_accuracy: 0.5050\n",
            "Epoch 9/10\n",
            "25/25 [==============================] - 0s 10ms/step - loss: 0.6034 - accuracy: 0.6762 - val_loss: 0.7878 - val_accuracy: 0.4550\n",
            "Epoch 10/10\n",
            "25/25 [==============================] - 0s 11ms/step - loss: 0.5732 - accuracy: 0.7225 - val_loss: 0.7406 - val_accuracy: 0.4950\n"
          ]
        },
        {
          "output_type": "execute_result",
          "data": {
            "text/plain": [
              "<keras.src.callbacks.History at 0x7c3ff0526860>"
            ]
          },
          "metadata": {},
          "execution_count": 42
        }
      ]
    },
    {
      "cell_type": "code",
      "source": [
        "import numpy as np\n",
        "import tensorflow as tf\n",
        "from tensorflow.keras.models import Sequential\n",
        "from tensorflow.keras.layers import Dense, Flatten, Conv2D, MaxPooling2D, GlobalMaxPooling2D\n",
        "from sklearn.metrics import accuracy_score, precision_score, recall_score, f1_score\n",
        "\n",
        "# Example data dimensions (replace with your actual data)\n",
        "# Assuming X_train and y_train are already defined\n",
        "# Generate random data for demonstration\n",
        "X_train = np.random.randn(1000, 25, 10)\n",
        "y_train = np.random.randint(2, size=1000)\n",
        "X_test = np.random.randn(200, 25, 10)\n",
        "y_test = np.random.randint(2, size=200)\n",
        "\n",
        "# Reshape X_train and X_test for Conv2D (assuming channels last)\n",
        "X_train = X_train.reshape(X_train.shape[0], X_train.shape[1], X_train.shape[2], 1)\n",
        "X_test = X_test.reshape(X_test.shape[0], X_test.shape[1], X_test.shape[2], 1)\n",
        "\n",
        "# Model 1: EEGNet\n",
        "model1 = Sequential([\n",
        "    Conv2D(16, (3, 3), activation='relu', padding='same',\n",
        "           input_shape=(X_train.shape[1], X_train.shape[2], 1)),\n",
        "    GlobalMaxPooling2D(),\n",
        "    Dense(64, activation='relu'),\n",
        "    Dense(1, activation='sigmoid')\n",
        "])\n",
        "\n",
        "model1.compile(optimizer='adam', loss='binary_crossentropy', metrics=['accuracy'])\n",
        "model1.fit(X_train, y_train, epochs=10, validation_split=0.2)\n",
        "\n",
        "# Model 2: TSCeption (simplified example)\n",
        "model2 = Sequential([\n",
        "    Conv2D(32, (3, 3), activation='relu', padding='same',\n",
        "           input_shape=(X_train.shape[1], X_train.shape[2], 1)),\n",
        "    GlobalMaxPooling2D(),\n",
        "    Dense(64, activation='relu'),\n",
        "    Dense(1, activation='sigmoid')\n",
        "])\n",
        "\n",
        "model2.compile(optimizer='adam', loss='binary_crossentropy', metrics=['accuracy'])\n",
        "model2.fit(X_train, y_train, epochs=10, validation_split=0.2)\n",
        "\n",
        "# Function to evaluate models\n",
        "def evaluate_model(model, X_test, y_test):\n",
        "    y_pred = (model.predict(X_test) > 0.5).astype(\"int32\")\n",
        "    accuracy = accuracy_score(y_test, y_pred)\n",
        "    precision = precision_score(y_test, y_pred)\n",
        "    recall = recall_score(y_test, y_pred)\n",
        "    f1 = f1_score(y_test, y_pred)\n",
        "    return accuracy, precision, recall, f1\n",
        "\n",
        "# Evaluate both models\n",
        "acc1, prec1, rec1, f1_1 = evaluate_model(model1, X_test, y_test)\n",
        "acc2, prec2, rec2, f1_2 = evaluate_model(model2, X_test, y_test)\n",
        "\n",
        "print(f\"EEGNet - Accuracy: {acc1}, Precision: {prec1}, Recall: {rec1}, F1 Score: {f1_1}\")\n",
        "print(f\"TSCeption - Accuracy: {acc2}, Precision: {prec2}, Recall: {rec2}, F1 Score: {f1_2}\")\n"
      ],
      "metadata": {
        "id": "-1pSAes0vZoW",
        "outputId": "b274b73e-ecf6-4e0c-b6b8-80cf0fbd62ce",
        "colab": {
          "base_uri": "https://localhost:8080/"
        }
      },
      "execution_count": 44,
      "outputs": [
        {
          "output_type": "stream",
          "name": "stdout",
          "text": [
            "Epoch 1/10\n",
            "25/25 [==============================] - 2s 14ms/step - loss: 0.7170 - accuracy: 0.4863 - val_loss: 0.6983 - val_accuracy: 0.4700\n",
            "Epoch 2/10\n",
            "25/25 [==============================] - 0s 7ms/step - loss: 0.7073 - accuracy: 0.4675 - val_loss: 0.7043 - val_accuracy: 0.5000\n",
            "Epoch 3/10\n",
            "25/25 [==============================] - 0s 7ms/step - loss: 0.6963 - accuracy: 0.5075 - val_loss: 0.6977 - val_accuracy: 0.4950\n",
            "Epoch 4/10\n",
            "25/25 [==============================] - 0s 7ms/step - loss: 0.6928 - accuracy: 0.5000 - val_loss: 0.6986 - val_accuracy: 0.4650\n",
            "Epoch 5/10\n",
            "25/25 [==============================] - 0s 8ms/step - loss: 0.6934 - accuracy: 0.5312 - val_loss: 0.6989 - val_accuracy: 0.4600\n",
            "Epoch 6/10\n",
            "25/25 [==============================] - 0s 7ms/step - loss: 0.6930 - accuracy: 0.4888 - val_loss: 0.6988 - val_accuracy: 0.4600\n",
            "Epoch 7/10\n",
            "25/25 [==============================] - 0s 7ms/step - loss: 0.6913 - accuracy: 0.5200 - val_loss: 0.6993 - val_accuracy: 0.4500\n",
            "Epoch 8/10\n",
            "25/25 [==============================] - 0s 8ms/step - loss: 0.6916 - accuracy: 0.5312 - val_loss: 0.7000 - val_accuracy: 0.4750\n",
            "Epoch 9/10\n",
            "25/25 [==============================] - 0s 7ms/step - loss: 0.6888 - accuracy: 0.5088 - val_loss: 0.6996 - val_accuracy: 0.4600\n",
            "Epoch 10/10\n",
            "25/25 [==============================] - 0s 10ms/step - loss: 0.6894 - accuracy: 0.5412 - val_loss: 0.7029 - val_accuracy: 0.4850\n",
            "Epoch 1/10\n",
            "25/25 [==============================] - 1s 15ms/step - loss: 0.6967 - accuracy: 0.4988 - val_loss: 0.6944 - val_accuracy: 0.5100\n",
            "Epoch 2/10\n",
            "25/25 [==============================] - 0s 8ms/step - loss: 0.6906 - accuracy: 0.5225 - val_loss: 0.6979 - val_accuracy: 0.5150\n",
            "Epoch 3/10\n",
            "25/25 [==============================] - 0s 8ms/step - loss: 0.6896 - accuracy: 0.5375 - val_loss: 0.6988 - val_accuracy: 0.5100\n",
            "Epoch 4/10\n",
            "25/25 [==============================] - 0s 8ms/step - loss: 0.6933 - accuracy: 0.5213 - val_loss: 0.6968 - val_accuracy: 0.4850\n",
            "Epoch 5/10\n",
            "25/25 [==============================] - 0s 8ms/step - loss: 0.6848 - accuracy: 0.5462 - val_loss: 0.7006 - val_accuracy: 0.4800\n",
            "Epoch 6/10\n",
            "25/25 [==============================] - 0s 8ms/step - loss: 0.6857 - accuracy: 0.5412 - val_loss: 0.6973 - val_accuracy: 0.4950\n",
            "Epoch 7/10\n",
            "25/25 [==============================] - 0s 9ms/step - loss: 0.6818 - accuracy: 0.5788 - val_loss: 0.7011 - val_accuracy: 0.4750\n",
            "Epoch 8/10\n",
            "25/25 [==============================] - 0s 8ms/step - loss: 0.6794 - accuracy: 0.5675 - val_loss: 0.7013 - val_accuracy: 0.4800\n",
            "Epoch 9/10\n",
            "25/25 [==============================] - 0s 8ms/step - loss: 0.6876 - accuracy: 0.5325 - val_loss: 0.6995 - val_accuracy: 0.5150\n",
            "Epoch 10/10\n",
            "25/25 [==============================] - 0s 8ms/step - loss: 0.6773 - accuracy: 0.6087 - val_loss: 0.7021 - val_accuracy: 0.4650\n",
            "7/7 [==============================] - 0s 4ms/step\n",
            "7/7 [==============================] - 0s 4ms/step\n",
            "EEGNet - Accuracy: 0.485, Precision: 0.38461538461538464, Recall: 0.05, F1 Score: 0.08849557522123894\n",
            "TSCeption - Accuracy: 0.505, Precision: 0.5102040816326531, Recall: 0.25, F1 Score: 0.33557046979865773\n"
          ]
        }
      ]
    },
    {
      "cell_type": "code",
      "source": [],
      "metadata": {
        "id": "LtQ1ILAKxLLy"
      },
      "execution_count": null,
      "outputs": []
    },
    {
      "cell_type": "markdown",
      "source": [
        "Github repository link = (https://github.com/VershaDubey?tab=repositories)"
      ],
      "metadata": {
        "id": "q6-MePa9xOnP"
      }
    }
  ]
}